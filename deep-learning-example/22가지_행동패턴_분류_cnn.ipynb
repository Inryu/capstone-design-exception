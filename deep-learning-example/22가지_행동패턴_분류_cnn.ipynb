# Keras model with one Convolution1D layerm
# unfortunately more number of covnolutional layers, filters and filters lenght 
# don't give better accuracy
model = Sequential()
model.add(Convolution2D(filters=256,kernel_size=3, padding="valid", strides=1, input_shape=(3,nb_features,1)))
model.add(Activation('relu'))
model.add(Dropout(0.4))
model.add(Flatten(data_format=None))
model.add(Dense(512, activation='relu'))
model.add(Dense(256, activation='relu'))
model.add(Dropout(0.4))
model.add(Dense(nb_class))
model.add(Activation('softmax'))

model.summary()



#y_train = np_utils.to_categorical(train_label, nb_class)
#y_valid = np_utils.to_categorical(val_label, nb_class)

sgd = SGD(lr=0.01, nesterov=True, decay=1e-6, momentum=0.9)
adam = Adam(lr=0.001, beta_1=0.9, beta_2=0.999, epsilon=1e-07, amsgrad=False)
model.compile(loss='categorical_crossentropy',optimizer=adam,metrics=['accuracy'])

nb_epoch = 40
mhistory = model.fit(X_train_r, train_label, epochs=nb_epoch,validation_data=(X_valid_r, val_label), batch_size=128)
