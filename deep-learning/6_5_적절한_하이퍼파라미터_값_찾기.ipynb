{
  "nbformat": 4,
  "nbformat_minor": 0,
  "metadata": {
    "colab": {
      "name": "6.5 적절한 하이퍼파라미터 값 찾기.ipynb",
      "provenance": [],
      "toc_visible": true,
      "authorship_tag": "ABX9TyMEEs0GUd5cj2yMj9Y8KGEF",
      "include_colab_link": true
    },
    "kernelspec": {
      "name": "python3",
      "display_name": "Python 3"
    }
  },
  "cells": [
    {
      "cell_type": "markdown",
      "metadata": {
        "id": "view-in-github",
        "colab_type": "text"
      },
      "source": [
        "<a href=\"https://colab.research.google.com/github/Inryu/capstone-design-exception/blob/main/deep-learning/6_5_%EC%A0%81%EC%A0%88%ED%95%9C_%ED%95%98%EC%9D%B4%ED%8D%BC%ED%8C%8C%EB%9D%BC%EB%AF%B8%ED%84%B0_%EA%B0%92_%EC%B0%BE%EA%B8%B0.ipynb\" target=\"_parent\"><img src=\"https://colab.research.google.com/assets/colab-badge.svg\" alt=\"Open In Colab\"/></a>"
      ]
    },
    {
      "cell_type": "markdown",
      "metadata": {
        "id": "CEhjDS5nUQGA"
      },
      "source": [
        "## __6.5 적절한 하이퍼파라미터 값 찾기__"
      ]
    },
    {
      "cell_type": "markdown",
      "metadata": {
        "id": "58BwkW-BUTdf"
      },
      "source": [
        "### __6.5.1 검증 데이터__"
      ]
    },
    {
      "cell_type": "code",
      "metadata": {
        "colab": {
          "base_uri": "https://localhost:8080/"
        },
        "id": "STuM3d0hUlTE",
        "outputId": "d4435aeb-39d4-4142-9569-90a623843e7a"
      },
      "source": [
        "from google.colab import drive\n",
        "drive.mount('/content/drive')"
      ],
      "execution_count": null,
      "outputs": [
        {
          "output_type": "stream",
          "text": [
            "Mounted at /content/drive\n"
          ],
          "name": "stdout"
        }
      ]
    },
    {
      "cell_type": "code",
      "metadata": {
        "colab": {
          "base_uri": "https://localhost:8080/"
        },
        "id": "hRgltViKU18X",
        "outputId": "f0227ff8-0dbd-4445-c942-b643471d2082"
      },
      "source": [
        "%cd /content/drive/MyDrive/deep-learning-from-scratch-master/"
      ],
      "execution_count": null,
      "outputs": [
        {
          "output_type": "stream",
          "text": [
            "/content/drive/MyDrive/deep-learning-from-scratch-master\n"
          ],
          "name": "stdout"
        }
      ]
    },
    {
      "cell_type": "code",
      "metadata": {
        "id": "E0sctEmAVLCA"
      },
      "source": [
        "from dataset.mnist import load_mnist\n",
        "\n",
        "(x_train, t_train), (x_test, t_test) = load_mnist()\n",
        "\n",
        "# 훈련 데이터를 뒤섞는다.\n",
        "x_train, t_train = shuffle_dataset(x_train, t_train)\n",
        "\n",
        "# 20%를 검증 데이터로 분할\n",
        "validation_rate = 0.20\n",
        "validation_num = int(x_train.shape[0] * validation_rate)\n",
        "\n",
        "x_val = x_train[:validation_num]\n",
        "t_val = t_train[:validation_num]\n",
        "x_train = x_train[validation_num:]\n",
        "t_train = t_train[validation_num:]"
      ],
      "execution_count": null,
      "outputs": []
    }
  ]
}