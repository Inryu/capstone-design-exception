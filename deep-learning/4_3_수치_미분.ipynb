{
  "nbformat": 4,
  "nbformat_minor": 0,
  "metadata": {
    "colab": {
      "name": "4.3 수치 미분.ipynb",
      "provenance": [],
      "authorship_tag": "ABX9TyM9qeDObuND3Rp+sOFkBx4Q",
      "include_colab_link": true
    },
    "kernelspec": {
      "name": "python3",
      "display_name": "Python 3"
    }
  },
  "cells": [
    {
      "cell_type": "markdown",
      "metadata": {
        "id": "view-in-github",
        "colab_type": "text"
      },
      "source": [
        "<a href=\"https://colab.research.google.com/github/Inryu/capstone-design-exception/blob/main/deep-learning/4_3_%EC%88%98%EC%B9%98_%EB%AF%B8%EB%B6%84.ipynb\" target=\"_parent\"><img src=\"https://colab.research.google.com/assets/colab-badge.svg\" alt=\"Open In Colab\"/></a>"
      ]
    },
    {
      "cell_type": "markdown",
      "metadata": {
        "id": "G5jSWjH4cukW"
      },
      "source": [
        "## __4.3 수치 미분__"
      ]
    },
    {
      "cell_type": "markdown",
      "metadata": {
        "id": "T8NWmuQcczYk"
      },
      "source": [
        "### __4.3.1 미분__"
      ]
    },
    {
      "cell_type": "code",
      "metadata": {
        "id": "MJKwEJUHc5cl"
      },
      "source": [
        "# 나쁜 구현 예\n",
        "def numerical_diff(f, x):\n",
        "  h = 10e-50\n",
        "  return (f(x + h) - f(x)) / h"
      ],
      "execution_count": null,
      "outputs": []
    },
    {
      "cell_type": "code",
      "metadata": {
        "id": "RbDCU27qdhw3"
      },
      "source": [
        "def numerical_diff(f, x):\n",
        "  h = 1e-4 # 0.0001\n",
        "  return (f(x+h) - f(x-h)) / (2*h)"
      ],
      "execution_count": null,
      "outputs": []
    },
    {
      "cell_type": "markdown",
      "metadata": {
        "id": "vhFBo3LYdvh5"
      },
      "source": [
        "### __4.3.2 수치 미분의 예__"
      ]
    },
    {
      "cell_type": "code",
      "metadata": {
        "colab": {
          "base_uri": "https://localhost:8080/",
          "height": 279
        },
        "id": "S0m2U1U1d0iX",
        "outputId": "8332a212-6694-459b-ea50-7346a35bb5b7"
      },
      "source": [
        "import numpy as np\n",
        "import matplotlib.pylab as plt\n",
        "\n",
        "def function_1(x):\n",
        "  return 0.01*x**2 + 0.1*x # y=0.01x^2 + 0.1x\n",
        "\n",
        "x = np.arange(0.0, 20.0, 0.1)\n",
        "y = function_1(x)\n",
        "plt.xlabel(\"x\")\n",
        "plt.ylabel(\"f(x)\")\n",
        "plt.plot(x, y)\n",
        "plt.show()"
      ],
      "execution_count": null,
      "outputs": [
        {
          "output_type": "display_data",
          "data": {
            "image/png": "[encoded data removed]",
            "text/plain": [
              "<Figure size 432x288 with 1 Axes>"
            ]
          },
          "metadata": {
            "tags": [],
            "needs_background": "light"
          }
        }
      ]
    },
    {
      "cell_type": "code",
      "metadata": {
        "colab": {
          "base_uri": "https://localhost:8080/"
        },
        "id": "RIy70aqFeU5d",
        "outputId": "bcc5cf5c-b82e-49fd-8475-896bfd2cac34"
      },
      "source": [
        "print(numerical_diff(function_1, 5))\n",
        "print(numerical_diff(function_1, 10))"
      ],
      "execution_count": null,
      "outputs": [
        {
          "output_type": "stream",
          "text": [
            "0.1999999999990898\n",
            "0.2999999999986347\n"
          ],
          "name": "stdout"
        }
      ]
    },
    {
      "cell_type": "code",
      "metadata": {
        "colab": {
          "base_uri": "https://localhost:8080/",
          "height": 301
        },
        "id": "FsiVbT1WfD3F",
        "outputId": "da8df5c1-31c9-4f7c-a9ee-0ea57b58a88c"
      },
      "source": [
        "def tangent_line(f, x):\n",
        "    d = numerical_diff(f, x)\n",
        "    print(d)\n",
        "    y = f(x) - d*x\n",
        "    return lambda t: d*t + y\n",
        "\n",
        "tf = tangent_line(function_1, 5)\n",
        "y2 = tf(x)\n",
        "tf = tangent_line(function_1, 10)\n",
        "y3 = tf(x)\n",
        "\n",
        "plt.plot(x, y, label=\"original function\")\n",
        "plt.plot(x, y2, label=\"diff at 5\")\n",
        "plt.plot(x, y3, label=\"diff at 10\")\n",
        "plt.legend()\n",
        "plt.show()"
      ],
      "execution_count": null,
      "outputs": [
        {
          "output_type": "stream",
          "text": [
            "0.1999999999990898\n",
            "0.2999999999986347\n"
          ],
          "name": "stdout"
        },
        {
          "output_type": "display_data",
          "data": {
            "image/png": "[encoded data removed]",
            "text/plain": [
              "<Figure size 432x288 with 1 Axes>"
            ]
          },
          "metadata": {
            "tags": [],
            "needs_background": "light"
          }
        }
      ]
    },
    {
      "cell_type": "markdown",
      "metadata": {
        "id": "9GWrqtZagH-y"
      },
      "source": [
        "### __4.3.3 편미분__"
      ]
    },
    {
      "cell_type": "code",
      "metadata": {
        "id": "Wv_LN8ZugLFm"
      },
      "source": [
        "def function_2(x):\n",
        "  return x[0]**2 + x[1]**2"
      ],
      "execution_count": null,
      "outputs": []
    },
    {
      "cell_type": "code",
      "metadata": {
        "colab": {
          "base_uri": "https://localhost:8080/"
        },
        "id": "ROwCwLwlgbmo",
        "outputId": "c0df9d2f-ef0e-481e-830b-f0d55c4d7daf"
      },
      "source": [
        "# x0=3, x1=4 일 때, x0에 대한 편미분\n",
        "def function_tmp1(x0):\n",
        "  return x0*x0 + 4.0**2.0\n",
        "\n",
        "print(numerical_diff(function_tmp1, 3.0))"
      ],
      "execution_count": null,
      "outputs": [
        {
          "output_type": "stream",
          "text": [
            "6.00000000000378\n"
          ],
          "name": "stdout"
        }
      ]
    },
    {
      "cell_type": "code",
      "metadata": {
        "colab": {
          "base_uri": "https://localhost:8080/"
        },
        "id": "5v8Kf_2yhBWE",
        "outputId": "e093468f-b63a-473d-e94b-268f1f35d6ab"
      },
      "source": [
        "# x0=3, x1=4 일 때, x1에 대한 편미분\n",
        "def function_tmp1(x1):\n",
        "  return 3.0**2.0 + x1*x1\n",
        "\n",
        "print(numerical_diff(function_tmp1, 4.0))"
      ],
      "execution_count": null,
      "outputs": [
        {
          "output_type": "stream",
          "text": [
            "7.999999999999119\n"
          ],
          "name": "stdout"
        }
      ]
    }
  ]
}