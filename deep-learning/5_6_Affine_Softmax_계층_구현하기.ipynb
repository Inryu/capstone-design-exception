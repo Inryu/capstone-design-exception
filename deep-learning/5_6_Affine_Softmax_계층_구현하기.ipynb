{
  "nbformat": 4,
  "nbformat_minor": 0,
  "metadata": {
    "colab": {
      "name": "5.6 Affine/Softmax 계층 구현하기.ipynb",
      "provenance": [],
      "authorship_tag": "ABX9TyNvAjPyXlgfcvUPOgjdL3TX",
      "include_colab_link": true
    },
    "kernelspec": {
      "name": "python3",
      "display_name": "Python 3"
    }
  },
  "cells": [
    {
      "cell_type": "markdown",
      "metadata": {
        "id": "view-in-github",
        "colab_type": "text"
      },
      "source": [
        "<a href=\"https://colab.research.google.com/github/Inryu/capstone-design-exception/blob/main/deep-learning/5_6_Affine_Softmax_%EA%B3%84%EC%B8%B5_%EA%B5%AC%ED%98%84%ED%95%98%EA%B8%B0.ipynb\" target=\"_parent\"><img src=\"https://colab.research.google.com/assets/colab-badge.svg\" alt=\"Open In Colab\"/></a>"
      ]
    },
    {
      "cell_type": "markdown",
      "metadata": {
        "id": "RqAamSxEhyUG"
      },
      "source": [
        "## __5.6 Affine/Softmax 계층 구현하기__"
      ]
    },
    {
      "cell_type": "markdown",
      "metadata": {
        "id": "YtJIcU7zh2gs"
      },
      "source": [
        "### __5.6.2 배치용 Affine 계층__"
      ]
    },
    {
      "cell_type": "code",
      "metadata": {
        "colab": {
          "base_uri": "https://localhost:8080/"
        },
        "id": "s2QXgt0dh7HX",
        "outputId": "61d1321d-7a6a-41ce-ca24-64e6b1ce5cc8"
      },
      "source": [
        "import numpy as np\n",
        "\n",
        "X_dot_W = np.array([[0, 0, 0], [10, 10, 10]])\n",
        "B = np.array([1, 2, 3])\n",
        "\n",
        "print(X_dot_W)\n",
        "print(X_dot_W + B)"
      ],
      "execution_count": null,
      "outputs": [
        {
          "output_type": "stream",
          "text": [
            "[[ 0  0  0]\n",
            " [10 10 10]]\n",
            "[[ 1  2  3]\n",
            " [11 12 13]]\n"
          ],
          "name": "stdout"
        }
      ]
    },
    {
      "cell_type": "code",
      "metadata": {
        "colab": {
          "base_uri": "https://localhost:8080/"
        },
        "id": "uIhBRxVMjjet",
        "outputId": "9dbdfa4c-7c88-431f-abb6-97efc4b21fd3"
      },
      "source": [
        "dY = np.array([[1, 2, 3], [4, 5, 6]])\n",
        "print(dY)\n",
        "\n",
        "dB = np.sum(dY, axis = 0)\n",
        "print(dB)"
      ],
      "execution_count": null,
      "outputs": [
        {
          "output_type": "stream",
          "text": [
            "[[1 2 3]\n",
            " [4 5 6]]\n",
            "[5 7 9]\n"
          ],
          "name": "stdout"
        }
      ]
    },
    {
      "cell_type": "code",
      "metadata": {
        "id": "CyRuO2u-j_pj"
      },
      "source": [
        "class Affine:\n",
        "  def __init__(self, W, b):\n",
        "    self.W = W\n",
        "    self.b = b\n",
        "    self.x = None\n",
        "    self.dW = None\n",
        "    self.db = None\n",
        "\n",
        "  def forward(self, x):\n",
        "    self.x = x\n",
        "    out = np.dot(x, self.W) + self.b\n",
        "\n",
        "    return out\n",
        "\n",
        "  def backward(self, dout):\n",
        "    dx = np.dot(dout, self.W.T)\n",
        "    self.dW = np.dot(self.x.T, dout)\n",
        "    self.db = nplsum(dout, axis=0)\n",
        "\n",
        "    return dx"
      ],
      "execution_count": null,
      "outputs": []
    },
    {
      "cell_type": "markdown",
      "metadata": {
        "id": "eVTklnoElGye"
      },
      "source": [
        "### __5.6.3 Softmax-with-Loss 계층__"
      ]
    },
    {
      "cell_type": "code",
      "metadata": {
        "id": "DsHsiW4jlL54"
      },
      "source": [
        "class SoftmaxWithLoss:\n",
        "  def __init__(self):\n",
        "    self.loss = None # 손실\n",
        "    self.y = None # softmax의 출력\n",
        "    self.t = None # 정답 레이블(원-핫 벡터)\n",
        "\n",
        "  def forward(self, x, t):\n",
        "    self.t = t\n",
        "    self.y = softmax(x)\n",
        "    self.loss = cross_entropy_error(self.y, self.t)\n",
        "    return self.loss\n",
        "\n",
        "  def backward(self, dout=1):\n",
        "    batch_size = self.t.shape[0]\n",
        "    dx = (self.y - self.t) / batch_size\n",
        "\n",
        "    return dx"
      ],
      "execution_count": null,
      "outputs": []
    }
  ]
}