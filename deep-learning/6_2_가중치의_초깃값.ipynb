{
  "nbformat": 4,
  "nbformat_minor": 0,
  "metadata": {
    "colab": {
      "name": "6.2 가중치의 초깃값.ipynb",
      "provenance": [],
      "authorship_tag": "ABX9TyNneJVLcmjaD7ptm9/pe7C0",
      "include_colab_link": true
    },
    "kernelspec": {
      "name": "python3",
      "display_name": "Python 3"
    }
  },
  "cells": [
    {
      "cell_type": "markdown",
      "metadata": {
        "id": "view-in-github",
        "colab_type": "text"
      },
      "source": [
        "<a href=\"https://colab.research.google.com/github/Inryu/capstone-design-exception/blob/main/deep-learning/6_2_%EA%B0%80%EC%A4%91%EC%B9%98%EC%9D%98_%EC%B4%88%EA%B9%83%EA%B0%92.ipynb\" target=\"_parent\"><img src=\"https://colab.research.google.com/assets/colab-badge.svg\" alt=\"Open In Colab\"/></a>"
      ]
    },
    {
      "cell_type": "markdown",
      "metadata": {
        "id": "DUpae-3nRZan"
      },
      "source": [
        "## __6.2 가중치의 초깃값__"
      ]
    },
    {
      "cell_type": "markdown",
      "metadata": {
        "id": "yWu3CejIRcJN"
      },
      "source": [
        "### __6.2.2 은닉층의 활성화값 분포__"
      ]
    },
    {
      "cell_type": "code",
      "metadata": {
        "colab": {
          "base_uri": "https://localhost:8080/"
        },
        "id": "NlUJK2n2TGgq",
        "outputId": "8d162295-2aa3-415d-b0c8-cacff8b800ac"
      },
      "source": [
        "from google.colab import drive\n",
        "drive.mount('/content/drive')"
      ],
      "execution_count": null,
      "outputs": [
        {
          "output_type": "stream",
          "text": [
            "Mounted at /content/drive\n"
          ],
          "name": "stdout"
        }
      ]
    },
    {
      "cell_type": "code",
      "metadata": {
        "colab": {
          "base_uri": "https://localhost:8080/"
        },
        "id": "GF5nhGGJTfgj",
        "outputId": "d9560fb5-1c8d-4b8c-ce72-281400da3a9a"
      },
      "source": [
        "%cd /content/drive/MyDrive/deep-learning-from-scratch-master/"
      ],
      "execution_count": null,
      "outputs": [
        {
          "output_type": "stream",
          "text": [
            "/content/drive/MyDrive/deep-learning-from-scratch-master\n"
          ],
          "name": "stdout"
        }
      ]
    },
    {
      "cell_type": "code",
      "metadata": {
        "id": "jOl9VssoRhZn"
      },
      "source": [
        "import numpy as np\n",
        "import matplotlib.pyplot as plt\n",
        "\n",
        "def sigmoid(x):\n",
        "  return 1 / (1 + np.exp(-x))\n",
        "\n",
        "x = np.random.randn(1000, 100) # 1000개의 데이터\n",
        "node_num = 100 # 각 은닉층의 노드(뉴런) 수\n",
        "hidden_layer_size = 5 # 은닉층이 5개\n",
        "activations = {} # 이곳에 활성화 결과(활성화값)를 저장\n",
        "\n",
        "for i in range(hidden_layer_size):\n",
        "  if i != 0:\n",
        "    x = activations[i-1]\n",
        "\n",
        "  #w = np.random.randn(node_num, node_num) * 1\n",
        "  #w = np.random.randn(node_num, node_num) * 0.01\n",
        "  w = np.random.randn(node_num, node_num) / np.sqrt(node_num)\n",
        "  a = np.dot(x, w)\n",
        "  z = sigmoid(a)\n",
        "  activations[i] = z"
      ],
      "execution_count": null,
      "outputs": []
    },
    {
      "cell_type": "code",
      "metadata": {
        "colab": {
          "base_uri": "https://localhost:8080/",
          "height": 281
        },
        "id": "PuJbgtm8T10s",
        "outputId": "ef4324fc-7900-40de-ddcf-7e624bdfc537"
      },
      "source": [
        "# 히스토그램 그리기\n",
        "for i, a in activations.items():\n",
        "  plt.subplot(1, len(activations), i+1)\n",
        "  plt.title(str(i+1) + \"-layer\")\n",
        "  plt.hist(a.flatten(), 30, range=(0,1))\n",
        "plt.show()"
      ],
      "execution_count": null,
      "outputs": [
        {
          "output_type": "display_data",
          "data": {
            "image/png": "[encoded data removed]",
            "text/plain": [
              "<Figure size 432x288 with 5 Axes>"
            ]
          },
          "metadata": {
            "tags": [],
            "needs_background": "light"
          }
        }
      ]
    },
    {
      "cell_type": "markdown",
      "metadata": {
        "id": "juBIm1jJWU5A"
      },
      "source": [
        "### __6.2.4 MNIST 데이터셋으로 본 가중치 초깃값 비교__"
      ]
    },
    {
      "cell_type": "code",
      "metadata": {
        "colab": {
          "base_uri": "https://localhost:8080/",
          "height": 1000
        },
        "id": "X3HC8c5YWY_U",
        "outputId": "f3cb7ad8-25a4-466d-bcf5-5ff457c622df"
      },
      "source": [
        "import os\n",
        "import sys\n",
        "\n",
        "sys.path.append(os.pardir)  # 부모 디렉터리의 파일을 가져올 수 있도록 설정\n",
        "import numpy as np\n",
        "import matplotlib.pyplot as plt\n",
        "from dataset.mnist import load_mnist\n",
        "from common.util import smooth_curve\n",
        "from common.multi_layer_net import MultiLayerNet\n",
        "from common.optimizer import SGD\n",
        "\n",
        "\n",
        "# 0. MNIST 데이터 읽기==========\n",
        "(x_train, t_train), (x_test, t_test) = load_mnist(normalize=True)\n",
        "\n",
        "train_size = x_train.shape[0]\n",
        "batch_size = 128\n",
        "max_iterations = 2000\n",
        "\n",
        "\n",
        "# 1. 실험용 설정==========\n",
        "weight_init_types = {'std=0.01': 0.01, 'Xavier': 'sigmoid', 'He': 'relu'}\n",
        "optimizer = SGD(lr=0.01)\n",
        "\n",
        "networks = {}\n",
        "train_loss = {}\n",
        "for key, weight_type in weight_init_types.items():\n",
        "    networks[key] = MultiLayerNet(input_size=784, hidden_size_list=[100, 100, 100, 100],\n",
        "                                  output_size=10, weight_init_std=weight_type)\n",
        "    train_loss[key] = []\n",
        "\n",
        "\n",
        "# 2. 훈련 시작==========\n",
        "for i in range(max_iterations):\n",
        "    batch_mask = np.random.choice(train_size, batch_size)\n",
        "    x_batch = x_train[batch_mask]\n",
        "    t_batch = t_train[batch_mask]\n",
        "    \n",
        "    for key in weight_init_types.keys():\n",
        "        grads = networks[key].gradient(x_batch, t_batch)\n",
        "        optimizer.update(networks[key].params, grads)\n",
        "    \n",
        "        loss = networks[key].loss(x_batch, t_batch)\n",
        "        train_loss[key].append(loss)\n",
        "    \n",
        "    if i % 100 == 0:\n",
        "        print(\"===========\" + \"iteration:\" + str(i) + \"===========\")\n",
        "        for key in weight_init_types.keys():\n",
        "            loss = networks[key].loss(x_batch, t_batch)\n",
        "            print(key + \":\" + str(loss))\n",
        "\n",
        "\n",
        "# 3. 그래프 그리기==========\n",
        "markers = {'std=0.01': 'o', 'Xavier': 's', 'He': 'D'}\n",
        "x = np.arange(max_iterations)\n",
        "for key in weight_init_types.keys():\n",
        "    plt.plot(x, smooth_curve(train_loss[key]), marker=markers[key], markevery=100, label=key)\n",
        "plt.xlabel(\"iterations\")\n",
        "plt.ylabel(\"loss\")\n",
        "plt.ylim(0, 2.5)\n",
        "plt.legend()\n",
        "plt.show()"
      ],
      "execution_count": null,
      "outputs": [
        {
          "output_type": "stream",
          "text": [
            "===========iteration:0===========\n",
            "std=0.01:2.3025152514987446\n",
            "Xavier:2.3062225709675914\n",
            "He:2.3120771685106494\n",
            "===========iteration:100===========\n",
            "std=0.01:2.3027196488580914\n",
            "Xavier:2.2540129597545606\n",
            "He:1.8094663591381177\n",
            "===========iteration:200===========\n",
            "std=0.01:2.301402353573274\n",
            "Xavier:2.198892166585833\n",
            "He:1.0114799094463542\n",
            "===========iteration:300===========\n",
            "std=0.01:2.301155173779473\n",
            "Xavier:1.9403003081055863\n",
            "He:0.6493765723361153\n",
            "===========iteration:400===========\n",
            "std=0.01:2.300803321069001\n",
            "Xavier:1.51349821108509\n",
            "He:0.4921635214020019\n",
            "===========iteration:500===========\n",
            "std=0.01:2.304163654651376\n",
            "Xavier:0.988001518277255\n",
            "He:0.4578619413800433\n",
            "===========iteration:600===========\n",
            "std=0.01:2.2974942902977826\n",
            "Xavier:0.6967076963228547\n",
            "He:0.3851018061536787\n",
            "===========iteration:700===========\n",
            "std=0.01:2.3026195686470894\n",
            "Xavier:0.5280906019680335\n",
            "He:0.3062529719893094\n",
            "===========iteration:800===========\n",
            "std=0.01:2.2999634379172793\n",
            "Xavier:0.6794783434979423\n",
            "He:0.4446122793247432\n",
            "===========iteration:900===========\n",
            "std=0.01:2.3015114521949487\n",
            "Xavier:0.5064133365582609\n",
            "He:0.2888933771559422\n",
            "===========iteration:1000===========\n",
            "std=0.01:2.3018798986501254\n",
            "Xavier:0.37733403344073707\n",
            "He:0.19322973912876062\n",
            "===========iteration:1100===========\n",
            "std=0.01:2.2989063600004958\n",
            "Xavier:0.3417473087325782\n",
            "He:0.2214525849893579\n",
            "===========iteration:1200===========\n",
            "std=0.01:2.293824904238484\n",
            "Xavier:0.34589335298100815\n",
            "He:0.21450863704182202\n",
            "===========iteration:1300===========\n",
            "std=0.01:2.296056493833805\n",
            "Xavier:0.4609296162893361\n",
            "He:0.3678502650311364\n",
            "===========iteration:1400===========\n",
            "std=0.01:2.307907264887948\n",
            "Xavier:0.42189214797512886\n",
            "He:0.281795896355999\n",
            "===========iteration:1500===========\n",
            "std=0.01:2.3028841068000276\n",
            "Xavier:0.22679315321972704\n",
            "He:0.18127501023121972\n",
            "===========iteration:1600===========\n",
            "std=0.01:2.292641150292316\n",
            "Xavier:0.45200201612745705\n",
            "He:0.33723806784091415\n",
            "===========iteration:1700===========\n",
            "std=0.01:2.3055575102241255\n",
            "Xavier:0.35789107699560674\n",
            "He:0.2916624815433167\n",
            "===========iteration:1800===========\n",
            "std=0.01:2.3064665924785723\n",
            "Xavier:0.2545585610045895\n",
            "He:0.16967417544678104\n",
            "===========iteration:1900===========\n",
            "std=0.01:2.2974715195253554\n",
            "Xavier:0.4400019235117859\n",
            "He:0.30055255075368414\n"
          ],
          "name": "stdout"
        },
        {
          "output_type": "display_data",
          "data": {
            "image/png": "[encoded data removed]",
            "text/plain": [
              "<Figure size 432x288 with 1 Axes>"
            ]
          },
          "metadata": {
            "tags": [],
            "needs_background": "light"
          }
        }
      ]
    }
  ]
}