{
  "nbformat": 4,
  "nbformat_minor": 0,
  "metadata": {
    "colab": {
      "name": "5.5 활성화 함수 계층 구현하기.ipynb",
      "provenance": [],
      "authorship_tag": "ABX9TyM8jQmNDja+39kUQ+F40OSs",
      "include_colab_link": true
    },
    "kernelspec": {
      "name": "python3",
      "display_name": "Python 3"
    }
  },
  "cells": [
    {
      "cell_type": "markdown",
      "metadata": {
        "id": "view-in-github",
        "colab_type": "text"
      },
      "source": [
        "<a href=\"https://colab.research.google.com/github/Inryu/capstone-design-exception/blob/main/deep-learning/5_5_%ED%99%9C%EC%84%B1%ED%99%94_%ED%95%A8%EC%88%98_%EA%B3%84%EC%B8%B5_%EA%B5%AC%ED%98%84%ED%95%98%EA%B8%B0.ipynb\" target=\"_parent\"><img src=\"https://colab.research.google.com/assets/colab-badge.svg\" alt=\"Open In Colab\"/></a>"
      ]
    },
    {
      "cell_type": "markdown",
      "metadata": {
        "id": "hMdqnQfSbijH"
      },
      "source": [
        "## __5.5 활성화 함수 계층 구현하기__"
      ]
    },
    {
      "cell_type": "markdown",
      "metadata": {
        "id": "ZCtSm1n3bmNv"
      },
      "source": [
        "### __5.5.1 ReLU 계층__"
      ]
    },
    {
      "cell_type": "code",
      "metadata": {
        "id": "Hkx9rqBNbpk-"
      },
      "source": [
        "import numpy as np\n",
        "\n",
        "class Relu:\n",
        "  def __init__(self):\n",
        "    self.mask = None\n",
        "\n",
        "  def forward(self, x):\n",
        "    self.mask = (x <= 0)\n",
        "    out = x.copy()\n",
        "    out[self.mask] = 0\n",
        "\n",
        "    return out\n",
        "\n",
        "  def backward(self, dout):\n",
        "    dout[self.mask] = 0\n",
        "    dx = dout\n",
        "\n",
        "    return dx"
      ],
      "execution_count": null,
      "outputs": []
    },
    {
      "cell_type": "code",
      "metadata": {
        "colab": {
          "base_uri": "https://localhost:8080/"
        },
        "id": "FCRGjmKHcR59",
        "outputId": "c7d744cf-a2a8-48ec-a259-25b3af1785ab"
      },
      "source": [
        "x = np.array([[1.0, -0.5], [-2.0, 3.0]])\n",
        "print(x)\n",
        "\n",
        "mask = ( x <= 0 )\n",
        "print(mask)"
      ],
      "execution_count": null,
      "outputs": [
        {
          "output_type": "stream",
          "text": [
            "[[ 1.  -0.5]\n",
            " [-2.   3. ]]\n",
            "[[False  True]\n",
            " [ True False]]\n"
          ],
          "name": "stdout"
        }
      ]
    },
    {
      "cell_type": "markdown",
      "metadata": {
        "id": "QmIW098idwgN"
      },
      "source": [
        "## __5.5.2 Sigmoid 계층__"
      ]
    },
    {
      "cell_type": "code",
      "metadata": {
        "id": "tEXX2Hpbdz1E"
      },
      "source": [
        "class Sigmoid:\n",
        "  def __init__(self):\n",
        "    self.out = None\n",
        "\n",
        "  def forward(self, x):\n",
        "    out = 1 / (1 + np.exp(-x))\n",
        "    self.out = out\n",
        "\n",
        "    return out\n",
        "\n",
        "  def backward(self, dout):\n",
        "    dx = dout * (1.0 - self.out) * self.out\n",
        "\n",
        "    return dx"
      ],
      "execution_count": null,
      "outputs": []
    }
  ]
}